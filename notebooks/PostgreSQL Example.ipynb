{
 "metadata": {
  "name": "PostgreSQL Example"
 },
 "nbformat": 3,
 "nbformat_minor": 0,
 "worksheets": [
  {
   "cells": [
    {
     "cell_type": "code",
     "collapsed": false,
     "input": [
      "# Ensure origins is on the path\n",
      "import os\n",
      "import sys\n",
      "sys.path.insert(0, os.path.abspath('..'))\n",
      "\n",
      "import origins"
     ],
     "language": "python",
     "metadata": {},
     "outputs": [],
     "prompt_number": 1
    },
    {
     "cell_type": "code",
     "collapsed": false,
     "input": [
      "db = origins.connect('postgresql', database='chinook')"
     ],
     "language": "python",
     "metadata": {},
     "outputs": [],
     "prompt_number": 2
    },
    {
     "cell_type": "code",
     "collapsed": false,
     "input": [
      "db.schemas"
     ],
     "language": "python",
     "metadata": {},
     "outputs": [
      {
       "output_type": "pyout",
       "prompt_number": 3,
       "text": [
        "[u'public']"
       ]
      }
     ],
     "prompt_number": 3
    },
    {
     "cell_type": "code",
     "collapsed": false,
     "input": [
      "db.schemas['public']"
     ],
     "language": "python",
     "metadata": {},
     "outputs": [
      {
       "output_type": "pyout",
       "prompt_number": 4,
       "text": [
        "{u'id': u'chinook.public', 'schema_name': 'public', u'source': u'chinook'}"
       ]
      }
     ],
     "prompt_number": 4
    },
    {
     "cell_type": "code",
     "collapsed": false,
     "input": [
      "db.schemas['public'].tables"
     ],
     "language": "python",
     "metadata": {},
     "outputs": [
      {
       "output_type": "pyout",
       "prompt_number": 5,
       "text": [
        "[u'Genre',\n",
        " u'MediaType',\n",
        " u'Track',\n",
        " u'Invoice',\n",
        " u'InvoiceLine',\n",
        " u'Playlist',\n",
        " u'Customer',\n",
        " u'Album',\n",
        " u'PlaylistTrack',\n",
        " u'Artist',\n",
        " u'Employee']"
       ]
      }
     ],
     "prompt_number": 5
    },
    {
     "cell_type": "code",
     "collapsed": false,
     "input": [
      "db.schemas['public'].tables['Track']"
     ],
     "language": "python",
     "metadata": {},
     "outputs": [
      {
       "output_type": "pyout",
       "prompt_number": 6,
       "text": [
        "{u'count': 3503L,\n",
        " u'id': u'chinook.public.Track',\n",
        " u'source': u'chinook.public',\n",
        " 'table_name': 'Track',\n",
        " 'table_schema': 'public'}"
       ]
      }
     ],
     "prompt_number": 6
    },
    {
     "cell_type": "code",
     "collapsed": false,
     "input": [
      "db.schemas['public'].tables['Track'].columns"
     ],
     "language": "python",
     "metadata": {},
     "outputs": [
      {
       "output_type": "pyout",
       "prompt_number": 7,
       "text": [
        "[u'Name',\n",
        " u'Composer',\n",
        " u'UnitPrice',\n",
        " u'MediaTypeId',\n",
        " u'TrackId',\n",
        " u'Milliseconds',\n",
        " u'AlbumId',\n",
        " u'GenreId',\n",
        " u'Bytes']"
       ]
      }
     ],
     "prompt_number": 7
    },
    {
     "cell_type": "code",
     "collapsed": false,
     "input": [
      "db.schemas['public'].tables['Track'].columns['Name']"
     ],
     "language": "python",
     "metadata": {},
     "outputs": [
      {
       "output_type": "pyout",
       "prompt_number": 8,
       "text": [
        "{'character_maximum_length': 200,\n",
        " 'column_name': 'Name',\n",
        " 'datetime_precision': None,\n",
        " 'default': None,\n",
        " u'id': u'chinook.public.Track.Name',\n",
        " 'nullable': 'NO',\n",
        " 'numeric_precision': None,\n",
        " 'numeric_scale': None,\n",
        " u'source': u'chinook.public.Track',\n",
        " 'table_name': 'Track',\n",
        " 'table_schema': 'public',\n",
        " 'type': 'character varying'}"
       ]
      }
     ],
     "prompt_number": 8
    }
   ],
   "metadata": {}
  }
 ]
}