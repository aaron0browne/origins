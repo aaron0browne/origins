{
 "metadata": {
  "name": "Excel Example"
 },
 "nbformat": 3,
 "nbformat_minor": 0,
 "worksheets": [
  {
   "cells": [
    {
     "cell_type": "code",
     "collapsed": false,
     "input": [
      "# Ensure origins is on the path\n",
      "import os\n",
      "import sys\n",
      "sys.path.insert(0, os.path.abspath('..'))\n",
      "\n",
      "import origins"
     ],
     "language": "python",
     "metadata": {},
     "outputs": [],
     "prompt_number": 1
    },
    {
     "cell_type": "code",
     "collapsed": false,
     "input": [
      "workbook = origins.connect('excel', path='../tests/data/chinook.xlsx')"
     ],
     "language": "python",
     "metadata": {},
     "outputs": [],
     "prompt_number": 2
    },
    {
     "cell_type": "code",
     "collapsed": false,
     "input": [
      "workbook.sheets"
     ],
     "language": "python",
     "metadata": {},
     "outputs": [
      {
       "output_type": "pyout",
       "prompt_number": 3,
       "text": [
        "[u'Employee',\n",
        " u'Tracks',\n",
        " u'InvoiceLines',\n",
        " u'MediaType',\n",
        " u'Albums',\n",
        " u'Customers',\n",
        " u'Genres',\n",
        " u'Invoices',\n",
        " u'PlaylistTracks',\n",
        " u'Playlists',\n",
        " u'Artists']"
       ]
      }
     ],
     "prompt_number": 3
    },
    {
     "cell_type": "code",
     "collapsed": false,
     "input": [
      "workbook.sheets['Artists']"
     ],
     "language": "python",
     "metadata": {},
     "outputs": [
      {
       "output_type": "pyout",
       "prompt_number": 4,
       "text": [
        "{u'id': u'../tests/data/chinook.xlsx.Artists',\n",
        " u'index': 9,\n",
        " u'sheet_name': 'Artists',\n",
        " u'source': u'../tests/data/chinook.xlsx',\n",
        " u'title': 'Artists'}"
       ]
      }
     ],
     "prompt_number": 4
    },
    {
     "cell_type": "code",
     "collapsed": false,
     "input": [
      "workbook.sheets['Artists'].columns"
     ],
     "language": "python",
     "metadata": {},
     "outputs": [
      {
       "output_type": "pyout",
       "prompt_number": 5,
       "text": [
        "[u'Name', u'ArtistId']"
       ]
      }
     ],
     "prompt_number": 5
    },
    {
     "cell_type": "code",
     "collapsed": false,
     "input": [
      "workbook.sheets['Artists'].columns['Name']"
     ],
     "language": "python",
     "metadata": {},
     "outputs": [
      {
       "output_type": "pyout",
       "prompt_number": 6,
       "text": [
        "{u'column': u'Name',\n",
        " u'id': u'../tests/data/chinook.xlsx.Artists.Name',\n",
        " u'index': 1,\n",
        " u'source': u'../tests/data/chinook.xlsx.Artists'}"
       ]
      }
     ],
     "prompt_number": 6
    }
   ],
   "metadata": {}
  }
 ]
}