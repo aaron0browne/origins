{
 "metadata": {
  "name": ""
 },
 "nbformat": 3,
 "nbformat_minor": 0,
 "worksheets": [
  {
   "cells": [
    {
     "cell_type": "code",
     "collapsed": false,
     "input": [
      "# Ensure origins is on the path\n",
      "import os\n",
      "import sys\n",
      "sys.path.insert(0, os.path.abspath('..'))\n",
      "\n",
      "import origins"
     ],
     "language": "python",
     "metadata": {},
     "outputs": [],
     "prompt_number": 1
    },
    {
     "cell_type": "code",
     "collapsed": false,
     "input": [
      "f = origins.connect('vcf', path='../tests/data/sample.vcf')"
     ],
     "language": "python",
     "metadata": {},
     "outputs": [],
     "prompt_number": 2
    },
    {
     "cell_type": "code",
     "collapsed": false,
     "input": [
      "f"
     ],
     "language": "python",
     "metadata": {},
     "outputs": [
      {
       "metadata": {},
       "output_type": "pyout",
       "prompt_number": 3,
       "text": [
        "{u'backend': 'vcf',\n",
        " 'fileformat': 'VCFv4.1',\n",
        " u'id': u'../tests/data/sample.vcf',\n",
        " 'path': '../tests/data/sample.vcf',\n",
        " 'reference': 'GRCh37'}"
       ]
      }
     ],
     "prompt_number": 3
    },
    {
     "cell_type": "code",
     "collapsed": false,
     "input": [
      "f.fields"
     ],
     "language": "python",
     "metadata": {},
     "outputs": [
      {
       "metadata": {},
       "output_type": "pyout",
       "prompt_number": 4,
       "text": [
        "[u'CHROM',\n",
        " u'POS',\n",
        " u'ID',\n",
        " u'REF',\n",
        " u'ALT',\n",
        " u'QUAL',\n",
        " u'FILTER',\n",
        " u'LDAF',\n",
        " u'AVGPOST',\n",
        " u'RSQ',\n",
        " u'ERATE',\n",
        " u'THETA',\n",
        " u'CIEND',\n",
        " u'CIPOS',\n",
        " u'END',\n",
        " u'HOMLEN',\n",
        " u'HOMSEQ',\n",
        " u'SVLEN',\n",
        " u'SVTYPE',\n",
        " u'AC',\n",
        " u'AN',\n",
        " u'AA',\n",
        " u'AF',\n",
        " u'AMR_AF',\n",
        " u'ASN_AF',\n",
        " u'AFR_AF',\n",
        " u'EUR_AF',\n",
        " u'VT',\n",
        " u'SNPSOURCE',\n",
        " u'GT',\n",
        " u'DS',\n",
        " u'GL']"
       ]
      }
     ],
     "prompt_number": 4
    },
    {
     "cell_type": "code",
     "collapsed": false,
     "input": [
      "f.fields['GT']"
     ],
     "language": "python",
     "metadata": {},
     "outputs": [
      {
       "metadata": {},
       "output_type": "pyout",
       "prompt_number": 5,
       "text": [
        "{'desc': 'Genotype',\n",
        " u'field_name': 'GT',\n",
        " u'id': u'../tests/data/sample.vcf/GT',\n",
        " 'num': 1,\n",
        " 'type': 'String'}"
       ]
      }
     ],
     "prompt_number": 5
    }
   ],
   "metadata": {}
  }
 ]
}