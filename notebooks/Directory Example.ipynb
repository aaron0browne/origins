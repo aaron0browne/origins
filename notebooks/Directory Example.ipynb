{
 "metadata": {
  "name": ""
 },
 "nbformat": 3,
 "nbformat_minor": 0,
 "worksheets": [
  {
   "cells": [
    {
     "cell_type": "code",
     "collapsed": false,
     "input": [
      "# Ensure origins is on the path\n",
      "import os\n",
      "import sys\n",
      "sys.path.insert(0, os.path.abspath('..'))\n",
      "\n",
      "import origins"
     ],
     "language": "python",
     "metadata": {},
     "outputs": [],
     "prompt_number": 1
    },
    {
     "cell_type": "code",
     "collapsed": false,
     "input": [
      "directory = origins.connect('directory', path='.', depth=1)"
     ],
     "language": "python",
     "metadata": {},
     "outputs": [],
     "prompt_number": 2
    },
    {
     "cell_type": "code",
     "collapsed": false,
     "input": [
      "directory"
     ],
     "language": "python",
     "metadata": {},
     "outputs": [
      {
       "metadata": {},
       "output_type": "pyout",
       "prompt_number": 3,
       "text": [
        "Directory('notebooks')"
       ]
      }
     ],
     "prompt_number": 3
    },
    {
     "cell_type": "code",
     "collapsed": false,
     "input": [
      "directory.props"
     ],
     "language": "python",
     "metadata": {},
     "outputs": [
      {
       "metadata": {},
       "output_type": "pyout",
       "prompt_number": 4,
       "text": [
        "{u'name': 'notebooks', u'path': '/Users/ruthb/Code/cbmi/origins/notebooks'}"
       ]
      }
     ],
     "prompt_number": 4
    },
    {
     "cell_type": "code",
     "collapsed": false,
     "input": [
      "directory.files"
     ],
     "language": "python",
     "metadata": {},
     "outputs": [
      {
       "metadata": {},
       "output_type": "pyout",
       "prompt_number": 5,
       "text": [
        "(File('DAL.ipynb'),\n",
        " File('Delimited Example.ipynb'),\n",
        " File('Directory Example.ipynb'),\n",
        " File('Excel Example.ipynb'),\n",
        " File('MongoDB Example.ipynb'),\n",
        " File('MySQL Example.ipynb'),\n",
        " File('Oracle Example.ipynb'),\n",
        " File('Origins Introduction.ipynb'),\n",
        " File('PostgreSQL Example.ipynb'),\n",
        " File('REDCap API Example.ipynb'),\n",
        " File('REDCap CSV Example.ipynb'),\n",
        " File('REDCap MySQL Example.ipynb'),\n",
        " File('requirements.txt'),\n",
        " File('SQLite Example.ipynb'),\n",
        " File('VCF Example.ipynb'))"
       ]
      }
     ],
     "prompt_number": 5
    },
    {
     "cell_type": "code",
     "collapsed": false,
     "input": [
      "directory.files['Delimited Example.ipynb']"
     ],
     "language": "python",
     "metadata": {},
     "outputs": [
      {
       "metadata": {},
       "output_type": "pyout",
       "prompt_number": 6,
       "text": [
        "File('Delimited Example.ipynb')"
       ]
      }
     ],
     "prompt_number": 6
    },
    {
     "cell_type": "code",
     "collapsed": false,
     "input": [
      "directory.files['Delimited Example.ipynb'].props"
     ],
     "language": "python",
     "metadata": {},
     "outputs": [
      {
       "metadata": {},
       "output_type": "pyout",
       "prompt_number": 7,
       "text": [
        "{u'accessed': '2013-12-16T07:58:11',\n",
        " u'created': '2013-12-15T13:04:02',\n",
        " u'gid': 1768498755,\n",
        " u'mode': 33188,\n",
        " u'modified': '2013-12-16T07:58:02',\n",
        " u'name': 'Delimited Example.ipynb',\n",
        " u'path': '/Users/ruthb/Code/cbmi/origins/notebooks/Delimited Example.ipynb',\n",
        " u'size': 2114,\n",
        " u'uid': 316885297}"
       ]
      }
     ],
     "prompt_number": 7
    }
   ],
   "metadata": {}
  }
 ]
}