{
 "metadata": {
  "name": "Directory Example"
 },
 "nbformat": 3,
 "nbformat_minor": 0,
 "worksheets": [
  {
   "cells": [
    {
     "cell_type": "code",
     "collapsed": false,
     "input": [
      "# Ensure origins is on the path\n",
      "import os\n",
      "import sys\n",
      "sys.path.insert(0, os.path.abspath('..'))\n",
      "\n",
      "import origins"
     ],
     "language": "python",
     "metadata": {},
     "outputs": [],
     "prompt_number": 1
    },
    {
     "cell_type": "code",
     "collapsed": false,
     "input": [
      "root = origins.connect('directory', path='.')"
     ],
     "language": "python",
     "metadata": {},
     "outputs": [],
     "prompt_number": 2
    },
    {
     "cell_type": "code",
     "collapsed": false,
     "input": [
      "root.files"
     ],
     "language": "python",
     "metadata": {},
     "outputs": [
      {
       "output_type": "pyout",
       "prompt_number": 3,
       "text": [
        "[u'Directory Example.ipynb',\n",
        " u'MongoDB Example.ipynb',\n",
        " u'Origins Introduction.ipynb',\n",
        " u'CSV Example.ipynb',\n",
        " u'requirements.txt',\n",
        " u'Excel Example.ipynb',\n",
        " u'MySQL Example.ipynb',\n",
        " u'PostgreSQL Example.ipynb']"
       ]
      }
     ],
     "prompt_number": 3
    },
    {
     "cell_type": "code",
     "collapsed": false,
     "input": [
      "root.files['PostgreSQL Example.ipynb']"
     ],
     "language": "python",
     "metadata": {},
     "outputs": [
      {
       "output_type": "pyout",
       "prompt_number": 4,
       "text": [
        "{u'abspath': '/Users/ruthb/Code/cbmi/origins/notebooks/PostgreSQL Example.ipynb',\n",
        " u'accessed': '2013-11-22T14:01:26',\n",
        " u'created': '2013-11-18T15:44:01',\n",
        " u'gid': 1768498755,\n",
        " u'id': u'/Users/ruthb/Code/cbmi/origins/notebooks.PostgreSQL Example.ipynb',\n",
        " u'mode': 33188,\n",
        " u'modified': '2013-11-22T11:04:01',\n",
        " u'path': 'PostgreSQL Example.ipynb',\n",
        " u'size': 4028,\n",
        " u'source': u'/Users/ruthb/Code/cbmi/origins/notebooks',\n",
        " u'uid': 316885297}"
       ]
      }
     ],
     "prompt_number": 4
    }
   ],
   "metadata": {}
  }
 ]
}