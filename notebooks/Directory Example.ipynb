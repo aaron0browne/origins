{
 "metadata": {
  "name": ""
 },
 "nbformat": 3,
 "nbformat_minor": 0,
 "worksheets": [
  {
   "cells": [
    {
     "cell_type": "code",
     "collapsed": false,
     "input": [
      "# Ensure origins is on the path\n",
      "import os\n",
      "import sys\n",
      "sys.path.insert(0, os.path.abspath('..'))"
     ],
     "language": "python",
     "metadata": {},
     "outputs": [],
     "prompt_number": 1
    },
    {
     "cell_type": "markdown",
     "metadata": {},
     "source": [
      "## Connect\n",
      "\n",
      "Takes a backend name and keyword arguments that will be passed to the backend's client. The `attrs` argument can be passed to supply the origin node with attributes."
     ]
    },
    {
     "cell_type": "code",
     "collapsed": false,
     "input": [
      "import origins\n",
      "directory = origins.connect('directory', path='.')"
     ],
     "language": "python",
     "metadata": {},
     "outputs": [],
     "prompt_number": 2
    },
    {
     "cell_type": "markdown",
     "metadata": {},
     "source": [
      "## API\n",
      "\n",
      "There is a generic and backend-specific API. For general purpose use the backend-specific API will be more familiar. When connected to and working with multiple backends at the same time, the generic API removes the need of conditional access."
     ]
    },
    {
     "cell_type": "code",
     "collapsed": false,
     "input": [
      "# Access all of the files/elements\n",
      "directory.files"
     ],
     "language": "python",
     "metadata": {},
     "outputs": [
      {
       "metadata": {},
       "output_type": "pyout",
       "prompt_number": 3,
       "text": [
        "[u'Delimited Example.ipynb',\n",
        " u'Directory Example.ipynb',\n",
        " u'Excel Example.ipynb',\n",
        " u'MongoDB Example.ipynb',\n",
        " u'MySQL Example.ipynb',\n",
        " u'Neo4j Export.ipynb',\n",
        " u'Oracle Example.ipynb',\n",
        " u'Origins Introduction.ipynb',\n",
        " u'PostgreSQL Example.ipynb',\n",
        " u'requirements.txt',\n",
        " u'SQLite Example.ipynb',\n",
        " u'Untitled0.ipynb',\n",
        " u'VCF Example.ipynb',\n",
        " u'.ipynb_checkpoints/Delimited Example-checkpoint.ipynb',\n",
        " u'.ipynb_checkpoints/Excel Example-checkpoint.ipynb',\n",
        " u'.ipynb_checkpoints/MongoDB Example-checkpoint.ipynb',\n",
        " u'.ipynb_checkpoints/Neo4j Export-checkpoint.ipynb',\n",
        " u'.ipynb_checkpoints/Oracle Example-checkpoint.ipynb',\n",
        " u'.ipynb_checkpoints/Origins Introduction-checkpoint.ipynb',\n",
        " u'.ipynb_checkpoints/VCF Example-checkpoint.ipynb']"
       ]
      }
     ],
     "prompt_number": 3
    },
    {
     "cell_type": "code",
     "collapsed": false,
     "input": [
      "# Access an element name or by index\n",
      "directory.files[3]"
     ],
     "language": "python",
     "metadata": {},
     "outputs": [
      {
       "metadata": {},
       "output_type": "pyout",
       "prompt_number": 4,
       "text": [
        "{u'accessed': '2013-11-25T09:01:17',\n",
        " u'created': '2013-11-25T08:43:22',\n",
        " u'file_name': 'MongoDB Example.ipynb',\n",
        " u'file_path': '/Users/ruthb/Code/cbmi/origins/notebooks/MongoDB Example.ipynb',\n",
        " u'gid': 1768498755,\n",
        " u'mode': 33188,\n",
        " u'modified': '2013-11-25T08:43:22',\n",
        " u'size': 2692L,\n",
        " u'uid': 316885297}"
       ]
      }
     ],
     "prompt_number": 4
    }
   ],
   "metadata": {}
  }
 ]
}