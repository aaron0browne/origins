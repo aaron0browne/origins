{
 "metadata": {
  "name": "CSV Example"
 },
 "nbformat": 3,
 "nbformat_minor": 0,
 "worksheets": [
  {
   "cells": [
    {
     "cell_type": "code",
     "collapsed": false,
     "input": [
      "# Ensure origins is on the path\n",
      "import os\n",
      "import sys\n",
      "sys.path.insert(0, os.path.abspath('..'))\n",
      "\n",
      "import origins"
     ],
     "language": "python",
     "metadata": {},
     "outputs": [],
     "prompt_number": 1
    },
    {
     "cell_type": "code",
     "collapsed": false,
     "input": [
      "table = origins.connect('csv', path='../tests/data/chinook_tracks.csv')"
     ],
     "language": "python",
     "metadata": {},
     "outputs": [],
     "prompt_number": 2
    },
    {
     "cell_type": "code",
     "collapsed": false,
     "input": [
      "table"
     ],
     "language": "python",
     "metadata": {},
     "outputs": [
      {
       "output_type": "pyout",
       "prompt_number": 3,
       "text": [
        "{u'backend': 'csv',\n",
        " 'count': 3503,\n",
        " u'id': u'chinook_tracks.csv',\n",
        " 'path': '../tests/data/chinook_tracks.csv'}"
       ]
      }
     ],
     "prompt_number": 3
    },
    {
     "cell_type": "code",
     "collapsed": false,
     "input": [
      "table.columns"
     ],
     "language": "python",
     "metadata": {},
     "outputs": [
      {
       "output_type": "pyout",
       "prompt_number": 4,
       "text": [
        "[u'GenreId',\n",
        " u'Composer',\n",
        " u'UnitPrice',\n",
        " u'AlbumId',\n",
        " u'Milliseconds',\n",
        " u'Bytes',\n",
        " u'TrackId',\n",
        " u'MediaTypeId',\n",
        " u'Name']"
       ]
      }
     ],
     "prompt_number": 4
    },
    {
     "cell_type": "code",
     "collapsed": false,
     "input": [
      "table.columns['Name']"
     ],
     "language": "python",
     "metadata": {},
     "outputs": [
      {
       "output_type": "pyout",
       "prompt_number": 5,
       "text": [
        "{u'id': u'chinook_tracks.csv.Name',\n",
        " 'name': 'Name',\n",
        " 'position': 1,\n",
        " u'source': u'chinook_tracks.csv'}"
       ]
      }
     ],
     "prompt_number": 5
    }
   ],
   "metadata": {}
  }
 ]
}