{
 "metadata": {
  "name": ""
 },
 "nbformat": 3,
 "nbformat_minor": 0,
 "worksheets": [
  {
   "cells": [
    {
     "cell_type": "code",
     "collapsed": false,
     "input": [
      "# Ensure origins is on the path\n",
      "import os\n",
      "import sys\n",
      "sys.path.insert(0, os.path.abspath('..'))"
     ],
     "language": "python",
     "metadata": {},
     "outputs": [],
     "prompt_number": 1
    },
    {
     "cell_type": "code",
     "collapsed": false,
     "input": [
      "import origins\n",
      "f = origins.connect('redcap-csv', path='REDCapDemoDatabase_DataDictionary_2013-12-12.csv')"
     ],
     "language": "python",
     "metadata": {},
     "outputs": [],
     "prompt_number": 2
    },
    {
     "cell_type": "code",
     "collapsed": false,
     "input": [
      "f.forms"
     ],
     "language": "python",
     "metadata": {},
     "outputs": [
      {
       "metadata": {},
       "output_type": "pyout",
       "prompt_number": 3,
       "text": [
        "[u'demographics',\n",
        " u'baseline_data',\n",
        " u'month_1_data',\n",
        " u'month_2_data',\n",
        " u'month_3_data',\n",
        " u'month_4_data',\n",
        " u'month_5_data',\n",
        " u'month_6_data',\n",
        " u'completion_data',\n",
        " u'brfss_2009_section_21_emotional_support_and_life_satisfaction',\n",
        " u'brfss_2009_module_1_prediabetes']"
       ]
      }
     ],
     "prompt_number": 3
    },
    {
     "cell_type": "code",
     "collapsed": false,
     "input": [
      "f.forms['demographics'].fields"
     ],
     "language": "python",
     "metadata": {},
     "outputs": [
      {
       "metadata": {},
       "output_type": "pyout",
       "prompt_number": 4,
       "text": [
        "[u'study_id',\n",
        " u'checkbox_test',\n",
        " u'date_enrolled',\n",
        " u'file_upload',\n",
        " u'first_name',\n",
        " u'last_name',\n",
        " u'address',\n",
        " u'telephone_1',\n",
        " u'telephone_2',\n",
        " u'sex',\n",
        " u'email',\n",
        " u'num_children',\n",
        " u'given_birth',\n",
        " u'ethnicity',\n",
        " u'race',\n",
        " u'age',\n",
        " u'dob',\n",
        " u'height',\n",
        " u'bmi',\n",
        " u'weight',\n",
        " u'patient_document',\n",
        " u'diabetes',\n",
        " u'comorbidities',\n",
        " u'diabetes_type',\n",
        " u'dialysis_initiation',\n",
        " u'access_type',\n",
        " u'access_location',\n",
        " u'dialysis_unit_name',\n",
        " u'dialysis_unit_phone',\n",
        " u'dialysis_schedule_days',\n",
        " u'dialysis_schedule_time',\n",
        " u'subject_comments',\n",
        " u'etiology_esrd',\n",
        " u'survey_1']"
       ]
      }
     ],
     "prompt_number": 4
    },
    {
     "cell_type": "code",
     "collapsed": false,
     "input": [
      "f.forms['demographics'].fields['dob']"
     ],
     "language": "python",
     "metadata": {},
     "outputs": [
      {
       "metadata": {},
       "output_type": "pyout",
       "prompt_number": 5,
       "text": [
        "{'field_choices': '',\n",
        " 'field_label': 'Date of birth',\n",
        " 'field_name': 'dob',\n",
        " 'field_note': '',\n",
        " 'field_type': 'text',\n",
        " 'field_validation_max': '',\n",
        " 'field_validation_min': '',\n",
        " 'field_validation_type': 'date_ymd',\n",
        " 'identifier': True,\n",
        " 'required': False}"
       ]
      }
     ],
     "prompt_number": 5
    }
   ],
   "metadata": {}
  }
 ]
}