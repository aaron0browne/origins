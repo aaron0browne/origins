{
 "metadata": {
  "name": ""
 },
 "nbformat": 3,
 "nbformat_minor": 0,
 "worksheets": [
  {
   "cells": [
    {
     "cell_type": "code",
     "collapsed": false,
     "input": [
      "# Ensure origins is on the path\n",
      "import os\n",
      "import sys\n",
      "sys.path.insert(0, os.path.abspath('..'))"
     ],
     "language": "python",
     "metadata": {},
     "outputs": [],
     "prompt_number": 1
    },
    {
     "cell_type": "code",
     "collapsed": false,
     "input": [
      "import origins\n",
      "metadata = origins.connect('redcap-csv', path='../tests/data/REDCapDemoDatabase_DataDictionary_2013-12-12.csv')"
     ],
     "language": "python",
     "metadata": {},
     "outputs": [],
     "prompt_number": 2
    },
    {
     "cell_type": "code",
     "collapsed": false,
     "input": [
      "metadata"
     ],
     "language": "python",
     "metadata": {},
     "outputs": [
      {
       "metadata": {},
       "output_type": "pyout",
       "prompt_number": 3,
       "text": [
        "Project('REDCapDemoDatabase_DataDictionary_2013-12-12.csv')"
       ]
      }
     ],
     "prompt_number": 3
    },
    {
     "cell_type": "code",
     "collapsed": false,
     "input": [
      "metadata.props"
     ],
     "language": "python",
     "metadata": {},
     "outputs": [
      {
       "metadata": {},
       "output_type": "pyout",
       "prompt_number": 4,
       "text": [
        "{'name': 'REDCapDemoDatabase_DataDictionary_2013-12-12.csv',\n",
        " 'path': '/Users/ruthb/Code/cbmi/origins/tests/data/REDCapDemoDatabase_DataDictionary_2013-12-12.csv'}"
       ]
      }
     ],
     "prompt_number": 4
    },
    {
     "cell_type": "code",
     "collapsed": false,
     "input": [
      "metadata.forms"
     ],
     "language": "python",
     "metadata": {},
     "outputs": [
      {
       "metadata": {},
       "output_type": "pyout",
       "prompt_number": 5,
       "text": [
        "(Form('month_3_data'),\n",
        " Form('demographics'),\n",
        " Form('baseline_data'),\n",
        " Form('brfss_2009_section_21_emotional_support_and_life_satisfaction'),\n",
        " Form('brfss_2009_module_1_prediabetes'),\n",
        " Form('month_2_data'),\n",
        " Form('month_5_data'),\n",
        " Form('month_1_data'),\n",
        " Form('month_6_data'),\n",
        " Form('month_4_data'),\n",
        " Form('completion_data'))"
       ]
      }
     ],
     "prompt_number": 5
    },
    {
     "cell_type": "code",
     "collapsed": false,
     "input": [
      "metadata.forms['demographics']"
     ],
     "language": "python",
     "metadata": {},
     "outputs": [
      {
       "metadata": {},
       "output_type": "pyout",
       "prompt_number": 6,
       "text": [
        "Form('demographics')"
       ]
      }
     ],
     "prompt_number": 6
    },
    {
     "cell_type": "code",
     "collapsed": false,
     "input": [
      "metadata.forms['demographics'].props"
     ],
     "language": "python",
     "metadata": {},
     "outputs": [
      {
       "metadata": {},
       "output_type": "pyout",
       "prompt_number": 7,
       "text": [
        "{'name': 'demographics'}"
       ]
      }
     ],
     "prompt_number": 7
    },
    {
     "cell_type": "code",
     "collapsed": false,
     "input": [
      "metadata.forms['demographics'].fields"
     ],
     "language": "python",
     "metadata": {},
     "outputs": [
      {
       "metadata": {},
       "output_type": "pyout",
       "prompt_number": 8,
       "text": [
        "(Field('study_id'),\n",
        " Field('checkbox_test'),\n",
        " Field('date_enrolled'),\n",
        " Field('file_upload'),\n",
        " Field('first_name'),\n",
        " Field('last_name'),\n",
        " Field('address'),\n",
        " Field('telephone_1'),\n",
        " Field('telephone_2'),\n",
        " Field('sex'),\n",
        " Field('email'),\n",
        " Field('num_children'),\n",
        " Field('given_birth'),\n",
        " Field('ethnicity'),\n",
        " Field('race'),\n",
        " Field('age'),\n",
        " Field('dob'),\n",
        " Field('height'),\n",
        " Field('bmi'),\n",
        " Field('weight'),\n",
        " Field('patient_document'),\n",
        " Field('diabetes'),\n",
        " Field('comorbidities'),\n",
        " Field('diabetes_type'),\n",
        " Field('dialysis_initiation'),\n",
        " Field('access_type'),\n",
        " Field('access_location'),\n",
        " Field('dialysis_unit_name'),\n",
        " Field('dialysis_unit_phone'),\n",
        " Field('dialysis_schedule_days'),\n",
        " Field('dialysis_schedule_time'),\n",
        " Field('subject_comments'),\n",
        " Field('etiology_esrd'),\n",
        " Field('survey_1'))"
       ]
      }
     ],
     "prompt_number": 8
    },
    {
     "cell_type": "code",
     "collapsed": false,
     "input": [
      "metadata.forms['demographics'].fields['race']"
     ],
     "language": "python",
     "metadata": {},
     "outputs": [
      {
       "metadata": {},
       "output_type": "pyout",
       "prompt_number": 9,
       "text": [
        "Field('race')"
       ]
      }
     ],
     "prompt_number": 9
    },
    {
     "cell_type": "code",
     "collapsed": false,
     "input": [
      "metadata.forms['demographics'].fields['race'].props"
     ],
     "language": "python",
     "metadata": {},
     "outputs": [
      {
       "metadata": {},
       "output_type": "pyout",
       "prompt_number": 10,
       "text": [
        "{'choices': '0, American Indian/Alaska Native \\\\n 1, Asian \\\\n 2, Native Hawaiian or Other Pacific Islander \\\\n 3, Black or African American \\\\n 4, White \\\\n 5, More Than One Race \\\\n 6, Unknown / Not Reported',\n",
        " 'identifier': False,\n",
        " 'label': 'Race',\n",
        " 'name': 'race',\n",
        " 'note': '',\n",
        " 'required': False,\n",
        " 'type': 'radio',\n",
        " 'validation_max': '',\n",
        " 'validation_min': '',\n",
        " 'validation_type': ''}"
       ]
      }
     ],
     "prompt_number": 10
    },
    {
     "cell_type": "code",
     "collapsed": false,
     "input": [
      "# For fields that have value choices, the `choices` property will convert\n",
      "# to a list of choice pairs\n",
      "metadata.forms['demographics'].fields['race'].choices"
     ],
     "language": "python",
     "metadata": {},
     "outputs": [
      {
       "metadata": {},
       "output_type": "pyout",
       "prompt_number": 11,
       "text": [
        "[(0, 'American Indian/Alaska Native'),\n",
        " (1, 'Asian'),\n",
        " (2, 'Native Hawaiian or Other Pacific Islander'),\n",
        " (3, 'Black or African American'),\n",
        " (4, 'White'),\n",
        " (5, 'More Than One Race'),\n",
        " (6, 'Unknown / Not Reported')]"
       ]
      }
     ],
     "prompt_number": 11
    }
   ],
   "metadata": {}
  }
 ]
}