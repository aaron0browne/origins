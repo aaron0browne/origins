{
 "metadata": {
  "name": ""
 },
 "nbformat": 3,
 "nbformat_minor": 0,
 "worksheets": [
  {
   "cells": [
    {
     "cell_type": "code",
     "collapsed": false,
     "input": [
      "import origins"
     ],
     "language": "python",
     "metadata": {},
     "outputs": [],
     "prompt_number": 1
    },
    {
     "cell_type": "code",
     "collapsed": false,
     "input": [
      "project = origins.connect('redcap-csv', path='../tests/data/redcap_demo.csv')"
     ],
     "language": "python",
     "metadata": {},
     "outputs": [],
     "prompt_number": 2
    },
    {
     "cell_type": "code",
     "collapsed": false,
     "input": [
      "project"
     ],
     "language": "python",
     "metadata": {},
     "outputs": [
      {
       "metadata": {},
       "output_type": "pyout",
       "prompt_number": 3,
       "text": [
        "Project('redcap_demo.csv')"
       ]
      }
     ],
     "prompt_number": 3
    },
    {
     "cell_type": "code",
     "collapsed": false,
     "input": [
      "project.props"
     ],
     "language": "python",
     "metadata": {},
     "outputs": [
      {
       "metadata": {},
       "output_type": "pyout",
       "prompt_number": 4,
       "text": [
        "{'name': 'redcap_demo.csv',\n",
        " 'path': '/Users/ruthb/Code/cbmi/origins/tests/data/redcap_demo.csv'}"
       ]
      }
     ],
     "prompt_number": 4
    },
    {
     "cell_type": "code",
     "collapsed": false,
     "input": [
      "project.forms"
     ],
     "language": "python",
     "metadata": {},
     "outputs": [
      {
       "metadata": {},
       "output_type": "pyout",
       "prompt_number": 5,
       "text": [
        "(Form('demographics'),\n",
        " Form('baseline_data'),\n",
        " Form('month_1_data'),\n",
        " Form('month_2_data'),\n",
        " Form('month_3_data'),\n",
        " Form('month_4_data'),\n",
        " Form('month_5_data'),\n",
        " Form('month_6_data'),\n",
        " Form('completion_data'),\n",
        " Form('brfss_2009_section_21_emotional_support_and_life_satisfaction'),\n",
        " Form('brfss_2009_module_1_prediabetes'))"
       ]
      }
     ],
     "prompt_number": 5
    },
    {
     "cell_type": "code",
     "collapsed": false,
     "input": [
      "project.forms['demographics']"
     ],
     "language": "python",
     "metadata": {},
     "outputs": [
      {
       "metadata": {},
       "output_type": "pyout",
       "prompt_number": 6,
       "text": [
        "Form('demographics')"
       ]
      }
     ],
     "prompt_number": 6
    },
    {
     "cell_type": "code",
     "collapsed": false,
     "input": [
      "project.forms['demographics'].props"
     ],
     "language": "python",
     "metadata": {},
     "outputs": [
      {
       "metadata": {},
       "output_type": "pyout",
       "prompt_number": 7,
       "text": [
        "{'name': 'demographics', 'order': 0}"
       ]
      }
     ],
     "prompt_number": 7
    },
    {
     "cell_type": "code",
     "collapsed": false,
     "input": [
      "project.forms['demographics'].fields"
     ],
     "language": "python",
     "metadata": {},
     "outputs": [
      {
       "metadata": {},
       "output_type": "pyout",
       "prompt_number": 8,
       "text": [
        "(Field('Study ID'),\n",
        " Field('Checkbox'),\n",
        " Field('Date subject signed consent'),\n",
        " Field('file upload'),\n",
        " Field('First Name'),\n",
        " Field('Last Name'),\n",
        " Field('Street, City, State, ZIP'),\n",
        " Field('Phone number'),\n",
        " Field('Second phone number'),\n",
        " Field('Gender'),\n",
        " Field('E-mail'),\n",
        " Field('How many times has the subject given birth?'),\n",
        " Field('Has the subject given birth before?'),\n",
        " Field('Ethnicity'),\n",
        " Field('Race'),\n",
        " Field('Age (years)'),\n",
        " Field('Date of birth'),\n",
        " Field('Height (cm)'),\n",
        " Field('BMI'),\n",
        " Field('Weight (kilograms)'),\n",
        " Field('Patient document'),\n",
        " Field('Patient has a diagnosis of diabetes mellitus?'),\n",
        " Field('Any comorbid condition'),\n",
        " Field('Type of Diabetes Mellitus'),\n",
        " Field('Date of first outpatient dialysis treatment'),\n",
        " Field('Type of vascular access'),\n",
        " Field('Location of currently used vascular access'),\n",
        " Field('Name of dialysis unit'),\n",
        " Field('Phone number'),\n",
        " Field('Days of the week patient is dialyzed'),\n",
        " Field('Shift patient is dialyzed'),\n",
        " Field('Comments'),\n",
        " Field('Etiology of ESRD'),\n",
        " Field('Test'))"
       ]
      }
     ],
     "prompt_number": 8
    },
    {
     "cell_type": "code",
     "collapsed": false,
     "input": [
      "project.forms['demographics'].fields['race']"
     ],
     "language": "python",
     "metadata": {},
     "outputs": [
      {
       "metadata": {},
       "output_type": "pyout",
       "prompt_number": 9,
       "text": [
        "Field('Race')"
       ]
      }
     ],
     "prompt_number": 9
    },
    {
     "cell_type": "code",
     "collapsed": false,
     "input": [
      "project.forms['demographics'].fields['race'].props"
     ],
     "language": "python",
     "metadata": {},
     "outputs": [
      {
       "metadata": {},
       "output_type": "pyout",
       "prompt_number": 10,
       "text": [
        "{'alignment': '',\n",
        " 'choices': '0, American Indian/Alaska Native \\\\n 1, Asian \\\\n 2, Native Hawaiian or Other Pacific Islander \\\\n 3, Black or African American \\\\n 4, White \\\\n 5, More Than One Race \\\\n 6, Unknown / Not Reported',\n",
        " 'display_logic': '',\n",
        " 'identifier': False,\n",
        " 'label': 'Race',\n",
        " 'matrix': '',\n",
        " 'name': 'race',\n",
        " 'note': '',\n",
        " 'order': 7,\n",
        " 'required': False,\n",
        " 'survey_num': '',\n",
        " 'type': 'radio',\n",
        " 'validation_max': '',\n",
        " 'validation_min': '',\n",
        " 'validation_type': ''}"
       ]
      }
     ],
     "prompt_number": 10
    },
    {
     "cell_type": "code",
     "collapsed": false,
     "input": [
      "# For fields that have value choices, the `choices` property will convert\n",
      "# to a list of choice pairs\n",
      "project.forms['demographics'].fields['race'].choices"
     ],
     "language": "python",
     "metadata": {},
     "outputs": [
      {
       "metadata": {},
       "output_type": "pyout",
       "prompt_number": 11,
       "text": [
        "[(0, u'American Indian/Alaska Native'),\n",
        " (1, u'Asian'),\n",
        " (2, u'Native Hawaiian or Other Pacific Islander'),\n",
        " (3, u'Black or African American'),\n",
        " (4, u'White'),\n",
        " (5, u'More Than One Race'),\n",
        " (6, u'Unknown / Not Reported')]"
       ]
      }
     ],
     "prompt_number": 11
    }
   ],
   "metadata": {}
  }
 ]
}