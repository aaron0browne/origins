{
 "metadata": {
  "name": "Origins Introduction"
 },
 "nbformat": 3,
 "nbformat_minor": 0,
 "worksheets": [
  {
   "cells": [
    {
     "cell_type": "markdown",
     "metadata": {},
     "source": [
      "# Origins\n",
      "\n",
      "Origins is introspection, indexer, and semantic analyzer of data elements. It connects to a source of data and indexes the data elements, gathering as much as metadata as it can."
     ]
    },
    {
     "cell_type": "code",
     "collapsed": false,
     "input": [
      "# Ensure origins is on the path\n",
      "import os\n",
      "import sys\n",
      "sys.path.insert(0, os.path.abspath('..'))\n",
      "\n",
      "import origins"
     ],
     "language": "python",
     "metadata": {},
     "outputs": [],
     "prompt_number": 1
    },
    {
     "cell_type": "markdown",
     "metadata": {},
     "source": [
      "## Connecting to a data source\n",
      "\n",
      "Data sources are connected to by using Origin's _backends_. To see all available backends and their import locations:"
     ]
    },
    {
     "cell_type": "code",
     "collapsed": false,
     "input": [
      "origins.BACKENDS"
     ],
     "language": "python",
     "metadata": {},
     "outputs": [
      {
       "output_type": "pyout",
       "prompt_number": 2,
       "text": [
        "{u'sqlite': u'origins.backends.sqlite'}"
       ]
      }
     ],
     "prompt_number": 2
    },
    {
     "cell_type": "markdown",
     "metadata": {},
     "source": [
      "If you're curious if your environment supports a particular backend (for dependencies) you can perform the check prior to connecting to it by using the `check_backend` function. If `None` is returned everything is good, otherwise the reason the backend is not supported will be returned."
     ]
    },
    {
     "cell_type": "code",
     "collapsed": false,
     "input": [
      "origins.check_backend('sqlite') # good\n",
      "origins.check_backend('foobar') # unknown"
     ],
     "language": "python",
     "metadata": {},
     "outputs": [
      {
       "output_type": "pyout",
       "prompt_number": 3,
       "text": [
        "u'unknown backend: foobar'"
       ]
      }
     ],
     "prompt_number": 3
    },
    {
     "cell_type": "markdown",
     "metadata": {},
     "source": [
      "Connect to a backend by using the `connect` function. The backend name followed by keyword arguments specific to that backend must be supplied (arguments are listed in the documentation). We will connect to a SQLite build of the [Chinook database](http://chinookdatabase.codeplex.com/)."
     ]
    },
    {
     "cell_type": "code",
     "collapsed": false,
     "input": [
      "db = origins.connect('sqlite', path='../tests/data/chinook.sqlite')"
     ],
     "language": "python",
     "metadata": {},
     "outputs": [],
     "prompt_number": 4
    },
    {
     "cell_type": "markdown",
     "metadata": {},
     "source": [
      "`connect` returns the _origin node_ of the data source. All nodes have attributes which may vary across backends since each have their own unique characteristcs. However every node is guaranteed to have a `id` which uniquely identifies itself across all the nodes (more on this next)."
     ]
    },
    {
     "cell_type": "code",
     "collapsed": false,
     "input": [
      "db"
     ],
     "language": "python",
     "metadata": {},
     "outputs": [
      {
       "output_type": "pyout",
       "prompt_number": 5,
       "text": [
        "{u'backend': 'sqlite',\n",
        " u'id': u'chinook.sqlite',\n",
        " 'path': '../tests/data/chinook.sqlite',\n",
        " u'size': 1067008,\n",
        " u'version': 32}"
       ]
      }
     ],
     "prompt_number": 5
    },
    {
     "cell_type": "markdown",
     "metadata": {},
     "source": [
      "To reiterate, Origins makes it trivial to access all the data elements in a particular data source. This can be done by accessing the `elements` property:"
     ]
    },
    {
     "cell_type": "code",
     "collapsed": false,
     "input": [
      "db.elements"
     ],
     "language": "python",
     "metadata": {},
     "outputs": [
      {
       "output_type": "pyout",
       "prompt_number": 6,
       "text": [
        "[u'Invoice.BillingAddress',\n",
        " u'Employee.City',\n",
        " u'Track.AlbumId',\n",
        " u'Invoice.BillingCountry',\n",
        " u'MediaType.Name',\n",
        " u'InvoiceLine.TrackId',\n",
        " u'InvoiceLine.UnitPrice',\n",
        " u'MediaType.MediaTypeId',\n",
        " u'Employee.Fax',\n",
        " u'Invoice.Total',\n",
        " u'Employee.BirthDate',\n",
        " u'Customer.SupportRepId',\n",
        " u'Employee.FirstName',\n",
        " u'Employee.Email',\n",
        " u'Track.Bytes',\n",
        " u'Customer.Country',\n",
        " u'InvoiceLine.InvoiceLineId',\n",
        " u'Employee.ReportsTo',\n",
        " u'Customer.Fax',\n",
        " u'InvoiceLine.InvoiceId',\n",
        " u'Genre.GenreId',\n",
        " u'Invoice.BillingPostalCode',\n",
        " u'Employee.EmployeeId',\n",
        " u'Genre.Name',\n",
        " u'Invoice.InvoiceDate',\n",
        " u'Invoice.InvoiceId',\n",
        " u'Track.Composer',\n",
        " u'PlaylistTrack.PlaylistId',\n",
        " u'Invoice.BillingState',\n",
        " u'Employee.LastName',\n",
        " u'Customer.Email',\n",
        " u'Employee.State',\n",
        " u'Customer.City',\n",
        " u'InvoiceLine.Quantity',\n",
        " u'Employee.Country',\n",
        " u'Customer.CustomerId',\n",
        " u'Employee.Title',\n",
        " u'Customer.State',\n",
        " u'Employee.Phone',\n",
        " u'Employee.HireDate',\n",
        " u'Customer.Address',\n",
        " u'Customer.Phone',\n",
        " u'Track.MediaTypeId',\n",
        " u'Playlist.PlaylistId',\n",
        " u'Employee.PostalCode',\n",
        " u'PlaylistTrack.TrackId',\n",
        " u'Track.GenreId',\n",
        " u'Customer.Company',\n",
        " u'Artist.ArtistId',\n",
        " u'Album.ArtistId',\n",
        " u'Artist.Name',\n",
        " u'Album.AlbumId',\n",
        " u'Customer.LastName',\n",
        " u'Track.TrackId',\n",
        " u'Playlist.Name',\n",
        " u'Album.Title',\n",
        " u'Track.Milliseconds',\n",
        " u'Employee.Address',\n",
        " u'Track.Name',\n",
        " u'Customer.PostalCode',\n",
        " u'Customer.FirstName',\n",
        " u'Invoice.CustomerId',\n",
        " u'Track.UnitPrice',\n",
        " u'Invoice.BillingCity']"
       ]
      }
     ],
     "prompt_number": 6
    },
    {
     "cell_type": "markdown",
     "metadata": {},
     "source": [
      "For a relational database, an element maps to a column on a table. Although awesome, this can be a tad overwhelming to look at when wanting to gradually look through the elements.\n",
      "\n",
      "Since the elements exist on tables _within_ the database (defined as columns), the tables are a natural hierarchy for accessing a subset of the elements. As you might expect, you can access the tables via `db.tables`: "
     ]
    },
    {
     "cell_type": "code",
     "collapsed": false,
     "input": [
      "db.tables"
     ],
     "language": "python",
     "metadata": {},
     "outputs": [
      {
       "output_type": "pyout",
       "prompt_number": 7,
       "text": [
        "[u'Playlist',\n",
        " u'Artist',\n",
        " u'InvoiceLine',\n",
        " u'Employee',\n",
        " u'PlaylistTrack',\n",
        " u'Track',\n",
        " u'Genre',\n",
        " u'MediaType',\n",
        " u'Invoice',\n",
        " u'Album',\n",
        " u'Customer']"
       ]
      }
     ],
     "prompt_number": 7
    },
    {
     "cell_type": "markdown",
     "metadata": {},
     "source": [
      "This lists all the tables in the database and their attributes.\n",
      "\n",
      "For cross-compatibility between backends, all nodes support the same interface for accessing the both `branches` and `elements`. The backend-specific terms are merely for API convenience when working with the backends programatically."
     ]
    },
    {
     "cell_type": "code",
     "collapsed": false,
     "input": [
      "db.tables == db.branches"
     ],
     "language": "python",
     "metadata": {},
     "outputs": [
      {
       "output_type": "pyout",
       "prompt_number": 8,
       "text": [
        "True"
       ]
      }
     ],
     "prompt_number": 8
    },
    {
     "cell_type": "markdown",
     "metadata": {},
     "source": [
      "To access a particular table, the `tables` (or `branches`) property can be accessed:"
     ]
    },
    {
     "cell_type": "code",
     "collapsed": false,
     "input": [
      "db.tables['Album']"
     ],
     "language": "python",
     "metadata": {},
     "outputs": [
      {
       "output_type": "pyout",
       "prompt_number": 9,
       "text": [
        "{u'count': 347,\n",
        " u'id': u'chinook.sqlite.Album',\n",
        " u'source': u'chinook.sqlite',\n",
        " u'table_name': u'Album'}"
       ]
      }
     ],
     "prompt_number": 9
    },
    {
     "cell_type": "markdown",
     "metadata": {},
     "source": [
      "Following the same convenience with `db.tables`, the elements can be accessed on the table using the `columns` property."
     ]
    },
    {
     "cell_type": "code",
     "collapsed": false,
     "input": [
      "db.tables['Album'].columns"
     ],
     "language": "python",
     "metadata": {},
     "outputs": [
      {
       "output_type": "pyout",
       "prompt_number": 10,
       "text": [
        "[u'ArtistId', u'Title', u'AlbumId']"
       ]
      }
     ],
     "prompt_number": 10
    },
    {
     "cell_type": "markdown",
     "metadata": {},
     "source": [
      "As you would expect, an individual column can be accessed as well: "
     ]
    },
    {
     "cell_type": "code",
     "collapsed": false,
     "input": [
      "db.tables['Album'].columns['Title']"
     ],
     "language": "python",
     "metadata": {},
     "outputs": [
      {
       "output_type": "pyout",
       "prompt_number": 11,
       "text": [
        "{u'column_name': u'Title',\n",
        " u'count': 347,\n",
        " u'default': None,\n",
        " u'id': u'chinook.sqlite.Album.Title',\n",
        " u'nullable': False,\n",
        " u'position': 1,\n",
        " u'primary_key': 0,\n",
        " u'source': u'Album',\n",
        " u'table_name': u'Album',\n",
        " u'type': u'NVARCHAR(160)',\n",
        " u'unique_count': 347}"
       ]
      }
     ],
     "prompt_number": 11
    }
   ],
   "metadata": {}
  }
 ]
}