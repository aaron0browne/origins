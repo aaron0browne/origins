{
 "metadata": {
  "name": ""
 },
 "nbformat": 3,
 "nbformat_minor": 0,
 "worksheets": [
  {
   "cells": [
    {
     "cell_type": "code",
     "collapsed": false,
     "input": [
      "# Ensure origins is on the path\n",
      "import os\n",
      "import sys\n",
      "sys.path.insert(0, os.path.abspath('..'))"
     ],
     "language": "python",
     "metadata": {},
     "outputs": [],
     "prompt_number": 1
    },
    {
     "cell_type": "markdown",
     "metadata": {},
     "source": [
      "# Origins\n",
      "\n",
      "Origins is introspection, indexer, and semantic analyzer of data elements. It connects to a source of data and indexes the data elements, gathering as much as metadata as it can."
     ]
    },
    {
     "cell_type": "code",
     "collapsed": false,
     "input": [
      "import origins"
     ],
     "language": "python",
     "metadata": {},
     "outputs": [],
     "prompt_number": 2
    },
    {
     "cell_type": "markdown",
     "metadata": {},
     "source": [
      "## Connecting to a data source\n",
      "\n",
      "Data sources are connected to by using Origin's _backends_. To see all available backends and their import locations:"
     ]
    },
    {
     "cell_type": "code",
     "collapsed": false,
     "input": [
      "origins.BACKENDS"
     ],
     "language": "python",
     "metadata": {},
     "outputs": [
      {
       "metadata": {},
       "output_type": "pyout",
       "prompt_number": 3,
       "text": [
        "{u'delimited': u'origins.backends.delimited',\n",
        " u'directory': u'origins.backends.directory',\n",
        " u'excel': u'origins.backends.excel',\n",
        " u'mongodb': u'origins.backends.mongodb',\n",
        " u'mysql': u'origins.backends.mysql',\n",
        " u'oracle': u'origins.backends.oracle',\n",
        " u'postgresql': u'origins.backends.postgresql',\n",
        " u'sqlite': u'origins.backends.sqlite',\n",
        " u'vcf': u'origins.backends.vcf'}"
       ]
      }
     ],
     "prompt_number": 3
    },
    {
     "cell_type": "markdown",
     "metadata": {},
     "source": [
      "Connect to a backend by using the `connect` function. The backend name followed by keyword arguments specific to that backend must be supplied (arguments are listed in the documentation). We will connect to a SQLite build of the [Chinook database](http://chinookdatabase.codeplex.com/)."
     ]
    },
    {
     "cell_type": "code",
     "collapsed": false,
     "input": [
      "db = origins.connect('sqlite', path='../tests/data/chinook.sqlite')"
     ],
     "language": "python",
     "metadata": {},
     "outputs": [],
     "prompt_number": 4
    },
    {
     "cell_type": "markdown",
     "metadata": {},
     "source": [
      "`connect` returns the _origin node_ of the data source. All nodes have attributes which may vary across backends since each have their own unique characteristcs."
     ]
    },
    {
     "cell_type": "code",
     "collapsed": false,
     "input": [
      "db"
     ],
     "language": "python",
     "metadata": {},
     "outputs": [
      {
       "metadata": {},
       "output_type": "pyout",
       "prompt_number": 5,
       "text": [
        "{u'database_name': 'chinook.sqlite',\n",
        " u'database_path': '/Users/ruthb/Code/cbmi/origins/tests/data/chinook.sqlite'}"
       ]
      }
     ],
     "prompt_number": 5
    },
    {
     "cell_type": "markdown",
     "metadata": {},
     "source": [
      "To reiterate, Origins makes it trivial to access all the data elements in a particular data source. This can be done by accessing the `elements` property:"
     ]
    },
    {
     "cell_type": "code",
     "collapsed": false,
     "input": [
      "db.elements"
     ],
     "language": "python",
     "metadata": {},
     "outputs": [
      {
       "metadata": {},
       "output_type": "pyout",
       "prompt_number": 6,
       "text": [
        "[u'Album/AlbumId',\n",
        " u'Album/Title',\n",
        " u'Album/ArtistId',\n",
        " u'Artist/ArtistId',\n",
        " u'Artist/Name',\n",
        " u'Customer/CustomerId',\n",
        " u'Customer/FirstName',\n",
        " u'Customer/LastName',\n",
        " u'Customer/Company',\n",
        " u'Customer/Address',\n",
        " u'Customer/City',\n",
        " u'Customer/State',\n",
        " u'Customer/Country',\n",
        " u'Customer/PostalCode',\n",
        " u'Customer/Phone',\n",
        " u'Customer/Fax',\n",
        " u'Customer/Email',\n",
        " u'Customer/SupportRepId',\n",
        " u'Employee/EmployeeId',\n",
        " u'Employee/LastName',\n",
        " u'Employee/FirstName',\n",
        " u'Employee/Title',\n",
        " u'Employee/ReportsTo',\n",
        " u'Employee/BirthDate',\n",
        " u'Employee/HireDate',\n",
        " u'Employee/Address',\n",
        " u'Employee/City',\n",
        " u'Employee/State',\n",
        " u'Employee/Country',\n",
        " u'Employee/PostalCode',\n",
        " u'Employee/Phone',\n",
        " u'Employee/Fax',\n",
        " u'Employee/Email',\n",
        " u'Genre/GenreId',\n",
        " u'Genre/Name',\n",
        " u'Invoice/InvoiceId',\n",
        " u'Invoice/CustomerId',\n",
        " u'Invoice/InvoiceDate',\n",
        " u'Invoice/BillingAddress',\n",
        " u'Invoice/BillingCity',\n",
        " u'Invoice/BillingState',\n",
        " u'Invoice/BillingCountry',\n",
        " u'Invoice/BillingPostalCode',\n",
        " u'Invoice/Total',\n",
        " u'InvoiceLine/InvoiceLineId',\n",
        " u'InvoiceLine/InvoiceId',\n",
        " u'InvoiceLine/TrackId',\n",
        " u'InvoiceLine/UnitPrice',\n",
        " u'InvoiceLine/Quantity',\n",
        " u'MediaType/MediaTypeId',\n",
        " u'MediaType/Name',\n",
        " u'Playlist/PlaylistId',\n",
        " u'Playlist/Name',\n",
        " u'PlaylistTrack/PlaylistId',\n",
        " u'PlaylistTrack/TrackId',\n",
        " u'Track/TrackId',\n",
        " u'Track/Name',\n",
        " u'Track/AlbumId',\n",
        " u'Track/MediaTypeId',\n",
        " u'Track/GenreId',\n",
        " u'Track/Composer',\n",
        " u'Track/Milliseconds',\n",
        " u'Track/Bytes',\n",
        " u'Track/UnitPrice']"
       ]
      }
     ],
     "prompt_number": 6
    },
    {
     "cell_type": "markdown",
     "metadata": {},
     "source": [
      "For a relational database, an element maps to a column on a table. Although awesome, this can be a tad overwhelming to look at when wanting to gradually look through the elements.\n",
      "\n",
      "Since the elements exist on tables _within_ the database (defined as columns), the tables are a natural hierarchy for accessing a subset of the elements. As you might expect, you can access the tables via `db.tables`: "
     ]
    },
    {
     "cell_type": "code",
     "collapsed": false,
     "input": [
      "db.tables"
     ],
     "language": "python",
     "metadata": {},
     "outputs": [
      {
       "metadata": {},
       "output_type": "pyout",
       "prompt_number": 7,
       "text": [
        "[u'Album',\n",
        " u'Artist',\n",
        " u'Customer',\n",
        " u'Employee',\n",
        " u'Genre',\n",
        " u'Invoice',\n",
        " u'InvoiceLine',\n",
        " u'MediaType',\n",
        " u'Playlist',\n",
        " u'PlaylistTrack',\n",
        " u'Track']"
       ]
      }
     ],
     "prompt_number": 7
    },
    {
     "cell_type": "markdown",
     "metadata": {},
     "source": [
      "This lists all the tables in the database and their attributes.\n",
      "\n",
      "For cross-compatibility between backends, all nodes support the same interface for accessing the both `branches` and `elements`. The backend-specific terms are merely for API convenience when working with the backends programatically."
     ]
    },
    {
     "cell_type": "code",
     "collapsed": false,
     "input": [
      "db.tables == db.branches"
     ],
     "language": "python",
     "metadata": {},
     "outputs": [
      {
       "metadata": {},
       "output_type": "pyout",
       "prompt_number": 8,
       "text": [
        "True"
       ]
      }
     ],
     "prompt_number": 8
    },
    {
     "cell_type": "markdown",
     "metadata": {},
     "source": [
      "To access a particular table, the `tables` (or `branches`) property can be accessed:"
     ]
    },
    {
     "cell_type": "code",
     "collapsed": false,
     "input": [
      "db.tables['Album']"
     ],
     "language": "python",
     "metadata": {},
     "outputs": [
      {
       "metadata": {},
       "output_type": "pyout",
       "prompt_number": 9,
       "text": [
        "{u'table_name': u'Album'}"
       ]
      }
     ],
     "prompt_number": 9
    },
    {
     "cell_type": "markdown",
     "metadata": {},
     "source": [
      "Following the same convenience with `db.tables`, the elements can be accessed on the table using the `columns` property."
     ]
    },
    {
     "cell_type": "code",
     "collapsed": false,
     "input": [
      "db.tables['Album'].columns"
     ],
     "language": "python",
     "metadata": {},
     "outputs": [
      {
       "metadata": {},
       "output_type": "pyout",
       "prompt_number": 10,
       "text": [
        "[u'AlbumId', u'Title', u'ArtistId']"
       ]
      }
     ],
     "prompt_number": 10
    },
    {
     "cell_type": "markdown",
     "metadata": {},
     "source": [
      "As you would expect, an individual column can be accessed as well: "
     ]
    },
    {
     "cell_type": "code",
     "collapsed": false,
     "input": [
      "db.tables['Album'].columns['AlbumId']"
     ],
     "language": "python",
     "metadata": {},
     "outputs": [
      {
       "metadata": {},
       "output_type": "pyout",
       "prompt_number": 11,
       "text": [
        "{u'column_index': 0,\n",
        " u'column_name': u'AlbumId',\n",
        " u'column_type': u'INTEGER',\n",
        " u'default_value': None,\n",
        " u'notnull': True,\n",
        " u'primary_key': True,\n",
        " u'table_name': u'Album'}"
       ]
      }
     ],
     "prompt_number": 11
    }
   ],
   "metadata": {}
  }
 ]
}