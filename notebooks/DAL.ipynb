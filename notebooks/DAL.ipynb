{
 "metadata": {
  "name": ""
 },
 "nbformat": 3,
 "nbformat_minor": 0,
 "worksheets": [
  {
   "cells": [
    {
     "cell_type": "markdown",
     "metadata": {},
     "source": [
      "# Data Access Layer (DAL)\n",
      "\n",
      "Having all this metadata makes it straightforward to actually access the data itself. The DAL is a simple uniform layer intended to be compatible across all backends to some capacity. Certain backends have more robust data access methods than others and these nuances are noted."
     ]
    },
    {
     "cell_type": "code",
     "collapsed": false,
     "input": [
      "# Ensure origins is on the path\n",
      "import os\n",
      "import sys\n",
      "sys.path.insert(0, os.path.abspath('..'))\n",
      "\n",
      "import origins"
     ],
     "language": "python",
     "metadata": {},
     "outputs": [],
     "prompt_number": 1
    },
    {
     "cell_type": "code",
     "collapsed": false,
     "input": [
      "db = origins.connect('sqlite', path='../tests/data/chinook.sqlite')"
     ],
     "language": "python",
     "metadata": {},
     "outputs": [],
     "prompt_number": 2
    },
    {
     "cell_type": "markdown",
     "metadata": {},
     "source": [
      "## Select\n",
      "\n",
      "The primary method for accessing data is using the `select()`. For example, return an iterator of records representing all rows in the `Employee` table, simply call `select()`:"
     ]
    },
    {
     "cell_type": "code",
     "collapsed": false,
     "input": [
      "table = db.tables['Employee']\n",
      "employees = table.select()"
     ],
     "language": "python",
     "metadata": {},
     "outputs": [],
     "prompt_number": 3
    },
    {
     "cell_type": "code",
     "collapsed": false,
     "input": [
      "next(employees)"
     ],
     "language": "python",
     "metadata": {},
     "outputs": [
      {
       "metadata": {},
       "output_type": "pyout",
       "prompt_number": 4,
       "text": [
        "record(EmployeeId=1, LastName=u'Adams', FirstName=u'Andrew', Title=u'General Manager', ReportsTo=None, BirthDate=u'1962-02-18 00:00:00', HireDate=u'2002-08-14 00:00:00', Address=u'11120 Jasper Ave NW', City=u'Edmonton', State=u'AB', Country=u'Canada', PostalCode=u'T5K 2N1', Phone=u'+1 (780) 428-9482', Fax=u'+1 (780) 428-3457', Email=u'andrew@chinookcorp.com')"
       ]
      }
     ],
     "prompt_number": 4
    },
    {
     "cell_type": "markdown",
     "metadata": {},
     "source": [
      "To only select a subset of fields, pass a sequence of element names:"
     ]
    },
    {
     "cell_type": "code",
     "collapsed": false,
     "input": [
      "employees = table.select(['FirstName', 'LastName', 'City'])"
     ],
     "language": "python",
     "metadata": {},
     "outputs": [],
     "prompt_number": 5
    },
    {
     "cell_type": "code",
     "collapsed": false,
     "input": [
      "next(employees)"
     ],
     "language": "python",
     "metadata": {},
     "outputs": [
      {
       "metadata": {},
       "output_type": "pyout",
       "prompt_number": 6,
       "text": [
        "record(FirstName=u'Andrew', LastName=u'Adams', City=u'Edmonton')"
       ]
      }
     ],
     "prompt_number": 6
    },
    {
     "cell_type": "markdown",
     "metadata": {},
     "source": [
      "Likewise, a specific element can be accessed as well:"
     ]
    },
    {
     "cell_type": "code",
     "collapsed": false,
     "input": [
      "column = table.columns['Title']\n",
      "titles = column.select(iterator=False, distinct=True)"
     ],
     "language": "python",
     "metadata": {},
     "outputs": [],
     "prompt_number": 7
    },
    {
     "cell_type": "markdown",
     "metadata": {},
     "source": [
      "In the above case, setting `iterator` to false will return a tuple of records in memory rather than a generator in the previous case. Futher, setting `distinct` to true will only return the distinct records."
     ]
    },
    {
     "cell_type": "code",
     "collapsed": false,
     "input": [
      "titles"
     ],
     "language": "python",
     "metadata": {},
     "outputs": [
      {
       "metadata": {},
       "output_type": "pyout",
       "prompt_number": 8,
       "text": [
        "(record(Title=u'General Manager'),\n",
        " record(Title=u'Sales Manager'),\n",
        " record(Title=u'Sales Support Agent'),\n",
        " record(Title=u'IT Manager'),\n",
        " record(Title=u'IT Staff'))"
       ]
      }
     ],
     "prompt_number": 8
    },
    {
     "cell_type": "markdown",
     "metadata": {},
     "source": [
      "Element's `select()` method take an additional argument `unpack` which will result in a plain set of values in instead of records."
     ]
    },
    {
     "cell_type": "code",
     "collapsed": false,
     "input": [
      "titles = column.select(iterator=False, distinct=True, unpack=True)"
     ],
     "language": "python",
     "metadata": {},
     "outputs": [],
     "prompt_number": 9
    },
    {
     "cell_type": "code",
     "collapsed": false,
     "input": [
      "titles"
     ],
     "language": "python",
     "metadata": {},
     "outputs": [
      {
       "metadata": {},
       "output_type": "pyout",
       "prompt_number": 10,
       "text": [
        "(u'General Manager',\n",
        " u'Sales Manager',\n",
        " u'Sales Support Agent',\n",
        " u'IT Manager',\n",
        " u'IT Staff')"
       ]
      }
     ],
     "prompt_number": 10
    },
    {
     "cell_type": "markdown",
     "metadata": {},
     "source": [
      "## Count\n",
      "\n",
      "Counting is trivial."
     ]
    },
    {
     "cell_type": "code",
     "collapsed": false,
     "input": [
      "table.count()"
     ],
     "language": "python",
     "metadata": {},
     "outputs": [
      {
       "metadata": {},
       "output_type": "pyout",
       "prompt_number": 11,
       "text": [
        "8"
       ]
      }
     ],
     "prompt_number": 11
    },
    {
     "cell_type": "markdown",
     "metadata": {},
     "source": [
      "Like `select()`, a subset of elements can be counted with an optional `distinct` flag."
     ]
    },
    {
     "cell_type": "code",
     "collapsed": false,
     "input": [
      "table.count(['Title'])"
     ],
     "language": "python",
     "metadata": {},
     "outputs": [
      {
       "metadata": {},
       "output_type": "pyout",
       "prompt_number": 12,
       "text": [
        "8"
       ]
      }
     ],
     "prompt_number": 12
    },
    {
     "cell_type": "code",
     "collapsed": false,
     "input": [
      "table.count(['Title'], distinct=True)"
     ],
     "language": "python",
     "metadata": {},
     "outputs": [
      {
       "metadata": {},
       "output_type": "pyout",
       "prompt_number": 13,
       "text": [
        "5"
       ]
      }
     ],
     "prompt_number": 13
    },
    {
     "cell_type": "markdown",
     "metadata": {},
     "source": [
      "`count()` can be called directly on an element as well and defaults to a distinct count."
     ]
    },
    {
     "cell_type": "code",
     "collapsed": false,
     "input": [
      "column.count()"
     ],
     "language": "python",
     "metadata": {},
     "outputs": [
      {
       "metadata": {},
       "output_type": "pyout",
       "prompt_number": 14,
       "text": [
        "5"
       ]
      }
     ],
     "prompt_number": 14
    }
   ],
   "metadata": {}
  }
 ]
}