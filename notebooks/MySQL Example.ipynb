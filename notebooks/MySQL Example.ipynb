{
 "metadata": {
  "name": ""
 },
 "nbformat": 3,
 "nbformat_minor": 0,
 "worksheets": [
  {
   "cells": [
    {
     "cell_type": "code",
     "collapsed": false,
     "input": [
      "# Ensure origins is on the path\n",
      "import os\n",
      "import sys\n",
      "sys.path.insert(0, os.path.abspath('..'))\n",
      "\n",
      "import origins"
     ],
     "language": "python",
     "metadata": {},
     "outputs": [],
     "prompt_number": 1
    },
    {
     "cell_type": "code",
     "collapsed": false,
     "input": [
      "db = origins.connect('mysql', database='chinook')"
     ],
     "language": "python",
     "metadata": {},
     "outputs": [],
     "prompt_number": 2
    },
    {
     "cell_type": "code",
     "collapsed": false,
     "input": [
      "db.tables"
     ],
     "language": "python",
     "metadata": {},
     "outputs": [
      {
       "metadata": {},
       "output_type": "pyout",
       "prompt_number": 3,
       "text": [
        "[u'Album',\n",
        " u'Artist',\n",
        " u'Customer',\n",
        " u'Employee',\n",
        " u'Genre',\n",
        " u'Invoice',\n",
        " u'InvoiceLine',\n",
        " u'MediaType',\n",
        " u'Playlist',\n",
        " u'PlaylistTrack',\n",
        " u'Track']"
       ]
      }
     ],
     "prompt_number": 3
    },
    {
     "cell_type": "code",
     "collapsed": false,
     "input": [
      "db.tables['Track']"
     ],
     "language": "python",
     "metadata": {},
     "outputs": [
      {
       "metadata": {},
       "output_type": "pyout",
       "prompt_number": 4,
       "text": [
        "{'table_name': 'Track'}"
       ]
      }
     ],
     "prompt_number": 4
    },
    {
     "cell_type": "code",
     "collapsed": false,
     "input": [
      "db.tables['Track'].columns"
     ],
     "language": "python",
     "metadata": {},
     "outputs": [
      {
       "metadata": {},
       "output_type": "pyout",
       "prompt_number": 5,
       "text": [
        "[u'TrackId',\n",
        " u'Name',\n",
        " u'AlbumId',\n",
        " u'MediaTypeId',\n",
        " u'GenreId',\n",
        " u'Composer',\n",
        " u'Milliseconds',\n",
        " u'Bytes',\n",
        " u'UnitPrice']"
       ]
      }
     ],
     "prompt_number": 5
    },
    {
     "cell_type": "code",
     "collapsed": false,
     "input": [
      "db.tables['Track'].columns['Bytes']"
     ],
     "language": "python",
     "metadata": {},
     "outputs": [
      {
       "metadata": {},
       "output_type": "pyout",
       "prompt_number": 6,
       "text": [
        "{'column_index': 8L,\n",
        " 'column_name': 'Bytes',\n",
        " 'data_type': 'int',\n",
        " 'nullable': True}"
       ]
      }
     ],
     "prompt_number": 6
    }
   ],
   "metadata": {}
  }
 ]
}