{
 "metadata": {
  "name": "MySQL Example"
 },
 "nbformat": 3,
 "nbformat_minor": 0,
 "worksheets": [
  {
   "cells": [
    {
     "cell_type": "code",
     "collapsed": false,
     "input": [
      "# Ensure origins is on the path\n",
      "import os\n",
      "import sys\n",
      "sys.path.insert(0, os.path.abspath('..'))\n",
      "\n",
      "import origins"
     ],
     "language": "python",
     "metadata": {},
     "outputs": [],
     "prompt_number": 1
    },
    {
     "cell_type": "code",
     "collapsed": false,
     "input": [
      "db = origins.connect('mysql', database='chinook', user='root', password='root')"
     ],
     "language": "python",
     "metadata": {},
     "outputs": [],
     "prompt_number": 2
    },
    {
     "cell_type": "code",
     "collapsed": false,
     "input": [
      "db.tables"
     ],
     "language": "python",
     "metadata": {},
     "outputs": [
      {
       "output_type": "pyout",
       "prompt_number": 3,
       "text": [
        "[u'InvoiceLine',\n",
        " u'PlaylistTrack',\n",
        " u'Genre',\n",
        " u'Artist',\n",
        " u'Track',\n",
        " u'Customer',\n",
        " u'MediaType',\n",
        " u'Invoice',\n",
        " u'Employee',\n",
        " u'Album',\n",
        " u'Playlist']"
       ]
      }
     ],
     "prompt_number": 3
    },
    {
     "cell_type": "code",
     "collapsed": false,
     "input": [
      "db.tables['Track']"
     ],
     "language": "python",
     "metadata": {},
     "outputs": [
      {
       "output_type": "pyout",
       "prompt_number": 4,
       "text": [
        "{'check_time': None,\n",
        " 'count': 3503L,\n",
        " 'create_time': datetime.datetime(2013, 11, 22, 9, 33, 28),\n",
        " u'id': u'chinook.Track',\n",
        " u'source': u'chinook',\n",
        " 'table_name': 'Track',\n",
        " 'table_rows': 3483L,\n",
        " 'table_schema': 'chinook',\n",
        " 'update_time': None}"
       ]
      }
     ],
     "prompt_number": 4
    },
    {
     "cell_type": "code",
     "collapsed": false,
     "input": [
      "db.tables['Track'].columns"
     ],
     "language": "python",
     "metadata": {},
     "outputs": [
      {
       "output_type": "pyout",
       "prompt_number": 5,
       "text": [
        "[u'Composer',\n",
        " u'UnitPrice',\n",
        " u'GenreId',\n",
        " u'AlbumId',\n",
        " u'MediaTypeId',\n",
        " u'Name',\n",
        " u'Milliseconds',\n",
        " u'Bytes',\n",
        " u'TrackId']"
       ]
      }
     ],
     "prompt_number": 5
    },
    {
     "cell_type": "code",
     "collapsed": false,
     "input": [
      "db.tables['Track'].columns['Name']"
     ],
     "language": "python",
     "metadata": {},
     "outputs": [
      {
       "output_type": "pyout",
       "prompt_number": 6,
       "text": [
        "{'character_maximum_length': 200L,\n",
        " 'column_name': 'Name',\n",
        " 'datetime_precision': None,\n",
        " 'default': None,\n",
        " u'id': u'chinook.Track.Name',\n",
        " 'nullable': 'NO',\n",
        " 'numeric_precision': None,\n",
        " 'numeric_scale': None,\n",
        " u'source': u'chinook.Track',\n",
        " 'table_name': 'track',\n",
        " 'table_schema': 'chinook',\n",
        " 'type': 'varchar'}"
       ]
      }
     ],
     "prompt_number": 6
    }
   ],
   "metadata": {}
  }
 ]
}