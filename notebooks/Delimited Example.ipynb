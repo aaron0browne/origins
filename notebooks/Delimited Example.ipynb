{
 "metadata": {
  "name": ""
 },
 "nbformat": 3,
 "nbformat_minor": 0,
 "worksheets": [
  {
   "cells": [
    {
     "cell_type": "code",
     "collapsed": false,
     "input": [
      "# Ensure origins is on the path\n",
      "import os\n",
      "import sys\n",
      "sys.path.insert(0, os.path.abspath('..'))"
     ],
     "language": "python",
     "metadata": {},
     "outputs": [],
     "prompt_number": 1
    },
    {
     "cell_type": "markdown",
     "metadata": {},
     "source": [
      "## Connect\n",
      "\n",
      "Takes a backend name and keyword arguments that will be passed to the backend's client. The `attrs` argument can be passed to supply the origin node with attributes."
     ]
    },
    {
     "cell_type": "code",
     "collapsed": false,
     "input": [
      "import origins\n",
      "table = origins.connect('delimited', path='../tests/data/chinook_tracks.csv')"
     ],
     "language": "python",
     "metadata": {},
     "outputs": [],
     "prompt_number": 2
    },
    {
     "cell_type": "markdown",
     "metadata": {},
     "source": [
      "## API\n",
      "\n",
      "There is a generic and backend-specific API. For general purpose use the backend-specific API will be more familiar. When connected to and working with multiple backends at the same time, the generic API removes the need of conditional access."
     ]
    },
    {
     "cell_type": "code",
     "collapsed": false,
     "input": [
      "# Access all of the columns\n",
      "# generic: table.elements\n",
      "table.columns"
     ],
     "language": "python",
     "metadata": {},
     "outputs": [
      {
       "metadata": {},
       "output_type": "pyout",
       "prompt_number": 3,
       "text": [
        "[u'TrackId',\n",
        " u'Name',\n",
        " u'AlbumId',\n",
        " u'MediaTypeId',\n",
        " u'GenreId',\n",
        " u'Composer',\n",
        " u'Milliseconds',\n",
        " u'Bytes',\n",
        " u'UnitPrice']"
       ]
      }
     ],
     "prompt_number": 3
    },
    {
     "cell_type": "code",
     "collapsed": false,
     "input": [
      "# Access a column by name or by index\n",
      "# generic: table.elements['Albums'] or table.elements[0]\n",
      "table.columns['TrackId']"
     ],
     "language": "python",
     "metadata": {},
     "outputs": [
      {
       "metadata": {},
       "output_type": "pyout",
       "prompt_number": 4,
       "text": [
        "{'column_index': 0, 'column_name': 'TrackId'}"
       ]
      }
     ],
     "prompt_number": 4
    },
    {
     "cell_type": "markdown",
     "metadata": {},
     "source": [
      "## Utilities"
     ]
    },
    {
     "cell_type": "code",
     "collapsed": false,
     "input": [
      "elements = table.elements"
     ],
     "language": "python",
     "metadata": {},
     "outputs": [],
     "prompt_number": 5
    },
    {
     "cell_type": "code",
     "collapsed": false,
     "input": [
      "# Accessible relative to the table\n",
      "e = elements['TrackId']"
     ],
     "language": "python",
     "metadata": {},
     "outputs": [],
     "prompt_number": 6
    },
    {
     "cell_type": "code",
     "collapsed": false,
     "input": [
      "# Serialize the attributes merging in all branches up to the\n",
      "# origin node.\n",
      "e.serialize(source=True)"
     ],
     "language": "python",
     "metadata": {},
     "outputs": [
      {
       "metadata": {},
       "output_type": "pyout",
       "prompt_number": 7,
       "text": [
        "{'column_index': 0,\n",
        " 'column_name': 'TrackId',\n",
        " 'file_name': 'chinook_tracks.csv',\n",
        " 'file_path': '/Users/ruthb/Code/cbmi/origins/tests/data/chinook_tracks.csv'}"
       ]
      }
     ],
     "prompt_number": 7
    },
    {
     "cell_type": "code",
     "collapsed": false,
     "input": [
      "# All nodes have a URI which can be used to uniquely identify\n",
      "# the node for external use.\n",
      "e.uri"
     ],
     "language": "python",
     "metadata": {},
     "outputs": [
      {
       "metadata": {},
       "output_type": "pyout",
       "prompt_number": 8,
       "text": [
        "u'delimited:///Users/ruthb/Code/cbmi/origins/tests/data/chinook_tracks.csv/TrackId'"
       ]
      }
     ],
     "prompt_number": 8
    }
   ],
   "metadata": {}
  }
 ]
}