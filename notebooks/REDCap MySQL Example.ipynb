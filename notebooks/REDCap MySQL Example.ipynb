{
 "metadata": {
  "name": ""
 },
 "nbformat": 3,
 "nbformat_minor": 0,
 "worksheets": [
  {
   "cells": [
    {
     "cell_type": "code",
     "collapsed": false,
     "input": [
      "# Ensure origins is on the path\n",
      "import os\n",
      "import sys\n",
      "sys.path.insert(0, os.path.abspath('..'))"
     ],
     "language": "python",
     "metadata": {},
     "outputs": [],
     "prompt_number": 1
    },
    {
     "cell_type": "code",
     "collapsed": false,
     "input": [
      "import origins\n",
      "project = origins.connect('redcap-mysql',\n",
      "                          project='redcap_demo',\n",
      "                          host='localhost',\n",
      "                          user='redcap',\n",
      "                          password='redcap')"
     ],
     "language": "python",
     "metadata": {},
     "outputs": [],
     "prompt_number": 2
    },
    {
     "cell_type": "code",
     "collapsed": false,
     "input": [
      "project.forms"
     ],
     "language": "python",
     "metadata": {},
     "outputs": [
      {
       "metadata": {},
       "output_type": "pyout",
       "prompt_number": 3,
       "text": [
        "[u'demographics',\n",
        " u'baseline_data',\n",
        " u'month_1_data',\n",
        " u'month_2_data',\n",
        " u'month_3_data',\n",
        " u'month_4_data',\n",
        " u'month_5_data',\n",
        " u'month_6_data',\n",
        " u'completion_data',\n",
        " u'brfss_2009_section_21_emotional_support_and_life_satisfaction',\n",
        " u'brfss_2009_module_1_prediabetes']"
       ]
      }
     ],
     "prompt_number": 3
    },
    {
     "cell_type": "code",
     "collapsed": false,
     "input": [
      "project.forms['demographics'].fields['ethnicity']"
     ],
     "language": "python",
     "metadata": {},
     "outputs": [
      {
       "metadata": {},
       "output_type": "pyout",
       "prompt_number": 4,
       "text": [
        "{u'field_choices': '0, Hispanic or Latino \\\\n 1, NOT Hispanic or Latino \\\\n 2, Unknown / Not Reported',\n",
        " u'field_label': 'Ethnicity',\n",
        " u'field_name': 'ethnicity',\n",
        " u'field_note': None,\n",
        " u'field_order': 14.0,\n",
        " u'field_type': 'radio',\n",
        " u'field_units': None,\n",
        " u'field_validation_max': None,\n",
        " u'field_validation_min': None,\n",
        " u'field_validation_type': None,\n",
        " u'identifier': False,\n",
        " u'required': False}"
       ]
      }
     ],
     "prompt_number": 4
    }
   ],
   "metadata": {}
  }
 ]
}